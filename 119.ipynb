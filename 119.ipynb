{
 "cells": [
  {
   "cell_type": "markdown",
   "metadata": {},
   "source": [
    "给定一个非负索引 rowIndex，返回「杨辉三角」的第 rowIndex 行。\n",
    "\n",
    "在「杨辉三角」中，每个数是它左上方和右上方的数的和。\n",
    "\n",
    "\n",
    "\n",
    " \n",
    "\n",
    "示例 1:\n",
    "\n",
    "输入: rowIndex = 3\n",
    "输出: [1,3,3,1]\n",
    "示例 2:\n",
    "\n",
    "输入: rowIndex = 0\n",
    "输出: [1]\n",
    "示例 3:\n",
    "\n",
    "输入: rowIndex = 1\n",
    "输出: [1,1]\n"
   ]
  },
  {
   "cell_type": "code",
   "execution_count": 6,
   "metadata": {},
   "outputs": [],
   "source": [
    "def getRow(rowIndex):\n",
    "    num=1\n",
    "    ans = []\n",
    "    for i in range(rowIndex+1):\n",
    "        ans.append(num)\n",
    "        num=num*(rowIndex-i)//(i+1)\n",
    "    return ans"
   ]
  },
  {
   "cell_type": "code",
   "execution_count": 7,
   "metadata": {},
   "outputs": [
    {
     "data": {
      "text/plain": [
       "[1, 5, 10, 10, 5, 1]"
      ]
     },
     "execution_count": 7,
     "metadata": {},
     "output_type": "execute_result"
    }
   ],
   "source": [
    "rowIndex=5\n",
    "getRow(rowIndex)"
   ]
  }
 ],
 "metadata": {
  "kernelspec": {
   "display_name": "Python 3.7.1 ('base')",
   "language": "python",
   "name": "python3"
  },
  "language_info": {
   "codemirror_mode": {
    "name": "ipython",
    "version": 3
   },
   "file_extension": ".py",
   "mimetype": "text/x-python",
   "name": "python",
   "nbconvert_exporter": "python",
   "pygments_lexer": "ipython3",
   "version": "3.7.1"
  },
  "orig_nbformat": 4,
  "vscode": {
   "interpreter": {
    "hash": "5179d32cf6ec497baf3f8a3ef987cc77c5d2dc691fdde20a56316522f61a7323"
   }
  }
 },
 "nbformat": 4,
 "nbformat_minor": 2
}
