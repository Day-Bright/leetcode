{
 "cells": [
  {
   "cell_type": "markdown",
   "metadata": {},
   "source": [
    "给定一个数组 prices ，它的第 i 个元素 prices[i] 表示一支给定股票第 i 天的价格。\n",
    "\n",
    "你只能选择 某一天 买入这只股票，并选择在 未来的某一个不同的日子 卖出该股票。设计一个算法来计算你所能获取的最大利润。\n",
    "\n",
    "返回你可以从这笔交易中获取的最大利润。如果你不能获取任何利润，返回 0 。\n",
    "\n",
    " \n",
    "\n",
    "示例 1：\n",
    "\n",
    "输入：[7,1,5,3,6,4]\n",
    "输出：5\n",
    "解释：在第 2 天（股票价格 = 1）的时候买入，在第 5 天（股票价格 = 6）的时候卖出，最大利润 = 6-1 = 5 。\n",
    "     注意利润不能是 7-1 = 6, 因为卖出价格需要大于买入价格；同时，你不能在买入前卖出股票。\n",
    "示例 2：\n",
    "\n",
    "输入：prices = [7,6,4,3,1]\n",
    "输出：0\n",
    "解释：在这种情况下, 没有交易完成, 所以最大利润为 0。\n"
   ]
  },
  {
   "cell_type": "code",
   "execution_count": 234,
   "metadata": {},
   "outputs": [],
   "source": [
    "# def maxProfit(prices):\n",
    "#     max = 0\n",
    "#     for i in range(len(prices)):\n",
    "#         for j in range(i+1,len(prices),1):\n",
    "#             print(prices[j],prices[i],prices[j]-prices[i])\n",
    "#             if max < prices[j]-prices[i]:\n",
    "#                 max = prices[j]-prices[i]\n",
    "#     return max\n",
    "            \n",
    "        \n",
    "        "
   ]
  },
  {
   "cell_type": "code",
   "execution_count": 235,
   "metadata": {},
   "outputs": [],
   "source": [
    "# def maxProfit(prices):\n",
    "#     l = len(prices)\n",
    "#     max1=0\n",
    "#     ans = []\n",
    "#     if len(prices)==1:\n",
    "#         return prices[0]\n",
    "#     for i in range(l-1):\n",
    "#         temp = prices[i+1:l] \n",
    "#         max1 = max(temp)\n",
    "#         ans.append(max1-prices[i])\n",
    "#     if max(ans)<=0:\n",
    "#         return 0\n",
    "#     else:\n",
    "#         return max(ans)"
   ]
  },
  {
   "cell_type": "code",
   "execution_count": 236,
   "metadata": {},
   "outputs": [],
   "source": [
    "def maxProfit(prices):\n",
    "    if len(prices)<=0:\n",
    "        return 0\n",
    "    minp = max(prices)\n",
    "    maxp = 0\n",
    "    for i in prices:\n",
    "        print(i,minp,maxp)\n",
    "        if i<minp:\n",
    "            minp=i\n",
    "        elif i-minp>maxp:\n",
    "            maxp = i-minp\n",
    "    return maxp\n",
    "    "
   ]
  },
  {
   "cell_type": "code",
   "execution_count": 237,
   "metadata": {},
   "outputs": [
    {
     "name": "stdout",
     "output_type": "stream",
     "text": [
      "7 7 0\n",
      "1 7 0\n",
      "5 1 0\n",
      "3 1 4\n",
      "6 1 4\n",
      "4 1 5\n"
     ]
    },
    {
     "data": {
      "text/plain": [
       "5"
      ]
     },
     "execution_count": 237,
     "metadata": {},
     "output_type": "execute_result"
    }
   ],
   "source": [
    "prices = [7,1,5,3,6,4]\n",
    "maxProfit(prices)"
   ]
  }
 ],
 "metadata": {
  "kernelspec": {
   "display_name": "Python 3.7.1 ('base')",
   "language": "python",
   "name": "python3"
  },
  "language_info": {
   "codemirror_mode": {
    "name": "ipython",
    "version": 3
   },
   "file_extension": ".py",
   "mimetype": "text/x-python",
   "name": "python",
   "nbconvert_exporter": "python",
   "pygments_lexer": "ipython3",
   "version": "3.7.1"
  },
  "orig_nbformat": 4,
  "vscode": {
   "interpreter": {
    "hash": "5179d32cf6ec497baf3f8a3ef987cc77c5d2dc691fdde20a56316522f61a7323"
   }
  }
 },
 "nbformat": 4,
 "nbformat_minor": 2
}
