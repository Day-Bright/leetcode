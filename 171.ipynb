{
 "cells": [
  {
   "cell_type": "markdown",
   "metadata": {},
   "source": [
    "给你一个字符串 columnTitle ，表示 Excel 表格中的列名称。返回 该列名称对应的列序号 。\n",
    "\n",
    "例如：\n",
    "\n",
    "A -> 1\n",
    "B -> 2\n",
    "C -> 3\n",
    "...\n",
    "Z -> 26\n",
    "AA -> 27\n",
    "AB -> 28 \n",
    "...\n",
    " \n",
    "\n",
    "示例 1:\n",
    "\n",
    "输入: columnTitle = \"A\"\n",
    "输出: 1\n",
    "示例 2:\n",
    "\n",
    "输入: columnTitle = \"AB\"\n",
    "输出: 28\n",
    "示例 3:\n",
    "\n",
    "输入: columnTitle = \"ZY\"\n",
    "输出: 701\n",
    "\n",
    "来源：力扣（LeetCode）\n",
    "链接：https://leetcode.cn/problems/excel-sheet-column-number\n",
    "著作权归领扣网络所有。商业转载请联系官方授权，非商业转载请注明出处。"
   ]
  },
  {
   "cell_type": "code",
   "execution_count": 53,
   "metadata": {},
   "outputs": [],
   "source": [
    "def titleToNumber(columnTitle: str) -> int:\n",
    "    dict1={\"A\":1,\"B\":2,\"C\":3,\"D\":4,\"E\":5,\"F\":6,\"G\":7,\"H\":8,\"I\":9,\"J\":10,\"K\":11,\"L\":12,\"M\":13,\"N\":14,\"O\":15,\"P\":16,\"Q\":17,\"R\":18,\"S\":19,\"T\":20,\"U\":21,\"V\":22,\"W\":23,\"X\":24,\"Y\":25,\"Z\":26}\n",
    "    ans = 0\n",
    "    i=len(columnTitle)-1\n",
    "    k=0\n",
    "    while i>-1:\n",
    "        ans+=pow(26,k)*dict1[columnTitle[i]]\n",
    "        k+=1\n",
    "        i-=1\n",
    "    return ans"
   ]
  },
  {
   "cell_type": "code",
   "execution_count": null,
   "metadata": {},
   "outputs": [],
   "source": []
  },
  {
   "cell_type": "code",
   "execution_count": 54,
   "metadata": {},
   "outputs": [
    {
     "data": {
      "text/plain": [
       "701"
      ]
     },
     "execution_count": 54,
     "metadata": {},
     "output_type": "execute_result"
    }
   ],
   "source": [
    "columnTitle=\"ZY\"\n",
    "titleToNumber(columnTitle)"
   ]
  }
 ],
 "metadata": {
  "kernelspec": {
   "display_name": "Python 3.7.1 ('base')",
   "language": "python",
   "name": "python3"
  },
  "language_info": {
   "codemirror_mode": {
    "name": "ipython",
    "version": 3
   },
   "file_extension": ".py",
   "mimetype": "text/x-python",
   "name": "python",
   "nbconvert_exporter": "python",
   "pygments_lexer": "ipython3",
   "version": "3.7.1"
  },
  "orig_nbformat": 4,
  "vscode": {
   "interpreter": {
    "hash": "5179d32cf6ec497baf3f8a3ef987cc77c5d2dc691fdde20a56316522f61a7323"
   }
  }
 },
 "nbformat": 4,
 "nbformat_minor": 2
}
