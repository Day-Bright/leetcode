{
 "cells": [
  {
   "cell_type": "markdown",
   "metadata": {},
   "source": [
    "给你一个整数数组 nums 。如果任一值在数组中出现 至少两次 ，返回 true ；如果数组中每个元素互不相同，返回 false 。\n",
    " \n",
    "\n",
    "示例 1：\n",
    "\n",
    "输入：nums = [1,2,3,1]\n",
    "输出：true\n",
    "示例 2：\n",
    "\n",
    "输入：nums = [1,2,3,4]\n",
    "输出：false\n",
    "示例 3：\n",
    "\n",
    "输入：nums = [1,1,1,3,3,4,3,2,4,2]\n",
    "输出：true\n",
    "\n",
    "来源：力扣（LeetCode）\n",
    "链接：https://leetcode.cn/problems/contains-duplicate\n",
    "著作权归领扣网络所有。商业转载请联系官方授权，非商业转载请注明出处。"
   ]
  },
  {
   "cell_type": "code",
   "execution_count": 4,
   "metadata": {},
   "outputs": [],
   "source": [
    "def containsDuplicate(nums):\n",
    "    temp = set(nums)\n",
    "    if len(temp)!=len(nums):\n",
    "        return True\n",
    "    else:\n",
    "        return False"
   ]
  },
  {
   "cell_type": "code",
   "execution_count": 5,
   "metadata": {},
   "outputs": [
    {
     "data": {
      "text/plain": [
       "True"
      ]
     },
     "execution_count": 5,
     "metadata": {},
     "output_type": "execute_result"
    }
   ],
   "source": [
    "nums = [1,2,3,1]\n",
    "containsDuplicate(nums)"
   ]
  }
 ],
 "metadata": {
  "kernelspec": {
   "display_name": "Python 3.7.1 ('base')",
   "language": "python",
   "name": "python3"
  },
  "language_info": {
   "codemirror_mode": {
    "name": "ipython",
    "version": 3
   },
   "file_extension": ".py",
   "mimetype": "text/x-python",
   "name": "python",
   "nbconvert_exporter": "python",
   "pygments_lexer": "ipython3",
   "version": "3.7.1"
  },
  "orig_nbformat": 4,
  "vscode": {
   "interpreter": {
    "hash": "5179d32cf6ec497baf3f8a3ef987cc77c5d2dc691fdde20a56316522f61a7323"
   }
  }
 },
 "nbformat": 4,
 "nbformat_minor": 2
}
