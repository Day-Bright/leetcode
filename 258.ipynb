{
 "cells": [
  {
   "cell_type": "markdown",
   "metadata": {},
   "source": [
    "给定一个非负整数 num，反复将各个位上的数字相加，直到结果为一位数。返回这个结果。\n",
    "\n",
    " \n",
    "\n",
    "示例 1:\n",
    "\n",
    "输入: num = 38\n",
    "输出: 2 \n",
    "解释: 各位相加的过程为：\n",
    "38 --> 3 + 8 --> 11\n",
    "11 --> 1 + 1 --> 2\n",
    "由于 2 是一位数，所以返回 2。\n",
    "示例 1:\n",
    "\n",
    "输入: num = 0\n",
    "输出: 0\n",
    "\n",
    "来源：力扣（LeetCode）\n",
    "链接：https://leetcode.cn/problems/add-digits\n",
    "著作权归领扣网络所有。商业转载请联系官方授权，非商业转载请注明出处。"
   ]
  },
  {
   "cell_type": "code",
   "execution_count": 44,
   "metadata": {},
   "outputs": [],
   "source": [
    "def addDigits(num: int) -> int:\n",
    "    # ans=0\n",
    "    for j in range(100):\n",
    "        ans=0\n",
    "        temp = list(str(num))\n",
    "        # print(temp)\n",
    "        for i in range(len(temp)):\n",
    "            ans+=int(temp[i])\n",
    "        num=ans\n",
    "        # print(num)\n",
    "    if ans<10:\n",
    "        return ans\n",
    "    else:\n",
    "        return 0\n",
    "    # print(ans)"
   ]
  },
  {
   "cell_type": "code",
   "execution_count": 45,
   "metadata": {},
   "outputs": [
    {
     "data": {
      "text/plain": [
       "0"
      ]
     },
     "execution_count": 45,
     "metadata": {},
     "output_type": "execute_result"
    }
   ],
   "source": [
    "num=0\n",
    "addDigits(num)"
   ]
  },
  {
   "cell_type": "code",
   "execution_count": 46,
   "metadata": {},
   "outputs": [
    {
     "data": {
      "text/plain": [
       "2"
      ]
     },
     "execution_count": 46,
     "metadata": {},
     "output_type": "execute_result"
    }
   ],
   "source": [
    "def addDigits(num: int) -> int:\n",
    "    if num > 9:\n",
    "        num = num % 9\n",
    "        if num == 0:\n",
    "            return 9\n",
    "    return num"
   ]
  }
 ],
 "metadata": {
  "kernelspec": {
   "display_name": "Python 3.7.1 ('base')",
   "language": "python",
   "name": "python3"
  },
  "language_info": {
   "codemirror_mode": {
    "name": "ipython",
    "version": 3
   },
   "file_extension": ".py",
   "mimetype": "text/x-python",
   "name": "python",
   "nbconvert_exporter": "python",
   "pygments_lexer": "ipython3",
   "version": "3.7.1"
  },
  "orig_nbformat": 4,
  "vscode": {
   "interpreter": {
    "hash": "5179d32cf6ec497baf3f8a3ef987cc77c5d2dc691fdde20a56316522f61a7323"
   }
  }
 },
 "nbformat": 4,
 "nbformat_minor": 2
}
