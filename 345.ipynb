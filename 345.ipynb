{
 "cells": [
  {
   "cell_type": "markdown",
   "metadata": {},
   "source": [
    "给你一个字符串 s ，仅反转字符串中的所有元音字母，并返回结果字符串。\n",
    "\n",
    "元音字母包括 'a'、'e'、'i'、'o'、'u'，且可能以大小写两种形式出现。\n",
    "\n",
    " \n",
    "\n",
    "示例 1：\n",
    "\n",
    "输入：s = \"hello\"\n",
    "输出：\"holle\"\n",
    "示例 2：\n",
    "\n",
    "输入：s = \"leetcode\"\n",
    "输出：\"leotcede\"\n",
    "\n",
    "来源：力扣（LeetCode）\n",
    "链接：https://leetcode.cn/problems/reverse-vowels-of-a-string\n",
    "著作权归领扣网络所有。商业转载请联系官方授权，非商业转载请注明出处。"
   ]
  },
  {
   "cell_type": "code",
   "execution_count": 101,
   "metadata": {},
   "outputs": [],
   "source": [
    "class Solution:\n",
    "    def reverseVowels(self, s):\n",
    "        temp=\"aeiouAEIOU\"\n",
    "        left=0\n",
    "        right=len(s)-1\n",
    "        list_str=list(s)\n",
    "        while left<right:\n",
    "            while left<right and list_str[left] not in temp:\n",
    "                left+=1\n",
    "            while left<right and list_str[right] not in temp:\n",
    "                right-=1\n",
    "            if left>=right:\n",
    "                break\n",
    "            list_str[left], list_str[right]= list_str[right], list_str[left]\n",
    "            left+=1\n",
    "            right-=1\n",
    "        return ''.join(list_str)\n",
    "               "
   ]
  },
  {
   "cell_type": "code",
   "execution_count": 104,
   "metadata": {},
   "outputs": [
    {
     "data": {
      "text/plain": [
       "'holle'"
      ]
     },
     "execution_count": 104,
     "metadata": {},
     "output_type": "execute_result"
    }
   ],
   "source": [
    "s=Solution()\n",
    "s.reverseVowels(\"hello\")"
   ]
  }
 ],
 "metadata": {
  "kernelspec": {
   "display_name": "Python 3.7.1 ('base')",
   "language": "python",
   "name": "python3"
  },
  "language_info": {
   "codemirror_mode": {
    "name": "ipython",
    "version": 3
   },
   "file_extension": ".py",
   "mimetype": "text/x-python",
   "name": "python",
   "nbconvert_exporter": "python",
   "pygments_lexer": "ipython3",
   "version": "3.7.1"
  },
  "orig_nbformat": 4,
  "vscode": {
   "interpreter": {
    "hash": "5179d32cf6ec497baf3f8a3ef987cc77c5d2dc691fdde20a56316522f61a7323"
   }
  }
 },
 "nbformat": 4,
 "nbformat_minor": 2
}
