{
 "cells": [
  {
   "cell_type": "markdown",
   "metadata": {},
   "source": [
    "猜数字游戏的规则如下：\n",
    "\n",
    "每轮游戏，我都会从 1 到 n 随机选择一个数字。 请你猜选出的是哪个数字。\n",
    "如果你猜错了，我会告诉你，你猜测的数字比我选出的数字是大了还是小了。\n",
    "你可以通过调用一个预先定义好的接口 int guess(int num) 来获取猜测结果，返回值一共有 3 种可能的情况（-1，1 或 0）：\n",
    "\n",
    "-1：我选出的数字比你猜的数字小 pick < num\n",
    "1：我选出的数字比你猜的数字大 pick > num\n",
    "0：我选出的数字和你猜的数字一样。恭喜！你猜对了！pick == num\n",
    "返回我选出的数字。\n",
    "\n",
    " \n",
    "\n",
    "示例 1：\n",
    "\n",
    "输入：n = 10, pick = 6\n",
    "输出：6\n",
    "示例 2：\n",
    "\n",
    "输入：n = 1, pick = 1\n",
    "输出：1\n",
    "示例 3：\n",
    "\n",
    "输入：n = 2, pick = 1\n",
    "输出：1\n",
    "示例 4：\n",
    "\n",
    "输入：n = 2, pick = 2\n",
    "输出：2\n",
    "\n",
    "来源：力扣（LeetCode）\n",
    "链接：https://leetcode.cn/problems/guess-number-higher-or-lower\n",
    "著作权归领扣网络所有。商业转载请联系官方授权，非商业转载请注明出处。"
   ]
  },
  {
   "cell_type": "code",
   "execution_count": null,
   "metadata": {},
   "outputs": [],
   "source": [
    "# The guess API is already defined for you.\n",
    "# @param num, your guess\n",
    "# @return -1 if my number is lower, 1 if my number is higher, otherwise return 0\n",
    "# def guess(num: int) -> int:\n",
    "\n",
    "class Solution:\n",
    "    def guessNumber(self, n: int) -> int:\n",
    "        l=1\n",
    "        r=n\n",
    "        while(l<r):\n",
    "            m=(l+r)//2\n",
    "            if (guess(m)<=0):\n",
    "                r=m\n",
    "            else:\n",
    "                l=m+1\n",
    "        return l"
   ]
  },
  {
   "cell_type": "code",
   "execution_count": null,
   "metadata": {},
   "outputs": [],
   "source": [
    "s=Solution()\n",
    "s.guessNumber(10)"
   ]
  }
 ],
 "metadata": {
  "language_info": {
   "name": "python"
  },
  "orig_nbformat": 4
 },
 "nbformat": 4,
 "nbformat_minor": 2
}
