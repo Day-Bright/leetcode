{
 "cells": [
  {
   "cell_type": "markdown",
   "metadata": {},
   "source": [
    "给定一个包含大写字母和小写字母的字符串 s ，返回 通过这些字母构造成的 最长的回文串 。\n",
    "\n",
    "在构造过程中，请注意 区分大小写 。比如 \"Aa\" 不能当做一个回文字符串。\n",
    "\n",
    " \n",
    "\n",
    "示例 1:\n",
    "\n",
    "输入:s = \"abccccdd\"\n",
    "输出:7\n",
    "解释:\n",
    "我们可以构造的最长的回文串是\"dccaccd\", 它的长度是 7。\n",
    "示例 2:\n",
    "\n",
    "输入:s = \"a\"\n",
    "输入:1\n",
    "示例 3:\n",
    "\n",
    "输入:s = \"bb\"\n",
    "输入: 2\n",
    "\n",
    "来源：力扣（LeetCode）\n",
    "链接：https://leetcode.cn/problems/longest-palindrome\n",
    "著作权归领扣网络所有。商业转载请联系官方授权，非商业转载请注明出处。"
   ]
  },
  {
   "cell_type": "code",
   "execution_count": 23,
   "metadata": {},
   "outputs": [],
   "source": [
    "class Solution:\n",
    "    def longestPalindrome(self, s: str) -> int:\n",
    "        set_s=set(list(s))\n",
    "        map={}\n",
    "        ans=0\n",
    "        temp=0\n",
    "        for i in set_s:\n",
    "            map[i]=s.count(i)\n",
    "        for key in map:\n",
    "            if map[key]%2==0:\n",
    "                ans+=map[key]\n",
    "            else:\n",
    "                ans+=map[key]-1\n",
    "                temp=1\n",
    "        if temp:\n",
    "            ans+=1\n",
    "        return ans"
   ]
  },
  {
   "cell_type": "code",
   "execution_count": 25,
   "metadata": {},
   "outputs": [
    {
     "data": {
      "text/plain": [
       "7"
      ]
     },
     "execution_count": 25,
     "metadata": {},
     "output_type": "execute_result"
    }
   ],
   "source": [
    "s=Solution()\n",
    "s.longestPalindrome(s = \"abccccdd\")"
   ]
  }
 ],
 "metadata": {
  "kernelspec": {
   "display_name": "Python 3.7.1 ('base')",
   "language": "python",
   "name": "python3"
  },
  "language_info": {
   "codemirror_mode": {
    "name": "ipython",
    "version": 3
   },
   "file_extension": ".py",
   "mimetype": "text/x-python",
   "name": "python",
   "nbconvert_exporter": "python",
   "pygments_lexer": "ipython3",
   "version": "3.7.1"
  },
  "orig_nbformat": 4,
  "vscode": {
   "interpreter": {
    "hash": "5179d32cf6ec497baf3f8a3ef987cc77c5d2dc691fdde20a56316522f61a7323"
   }
  }
 },
 "nbformat": 4,
 "nbformat_minor": 2
}
