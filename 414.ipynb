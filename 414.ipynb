{
 "cells": [
  {
   "cell_type": "markdown",
   "metadata": {},
   "source": [
    "给你一个非空数组，返回此数组中 第三大的数 。如果不存在，则返回数组中最大的数。\n",
    "\n",
    " \n",
    "\n",
    "示例 1：\n",
    "\n",
    "输入：[3, 2, 1]\n",
    "输出：1\n",
    "解释：第三大的数是 1 。\n",
    "示例 2：\n",
    "\n",
    "输入：[1, 2]\n",
    "输出：2\n",
    "解释：第三大的数不存在, 所以返回最大的数 2 。\n",
    "示例 3：\n",
    "\n",
    "输入：[2, 2, 3, 1]\n",
    "输出：1\n",
    "解释：注意，要求返回第三大的数，是指在所有不同数字中排第三大的数。\n",
    "此例中存在两个值为 2 的数，它们都排第二。在所有不同数字中排第三大的数为 1 。\n",
    "\n",
    "来源：力扣（LeetCode）\n",
    "链接：https://leetcode.cn/problems/third-maximum-number\n",
    "著作权归领扣网络所有。商业转载请联系官方授权，非商业转载请注明出处。"
   ]
  },
  {
   "cell_type": "code",
   "execution_count": 23,
   "metadata": {},
   "outputs": [],
   "source": [
    "class Solution(object):\n",
    "    def thirdMax(self, nums):\n",
    "        set_nums=sorted(set(nums))\n",
    "        if len(set_nums)<3:\n",
    "            return max(set_nums)\n",
    "        else:\n",
    "            set_nums=sorted(set(nums))\n",
    "            return set_nums[-3]"
   ]
  },
  {
   "cell_type": "code",
   "execution_count": 24,
   "metadata": {},
   "outputs": [
    {
     "data": {
      "text/plain": [
       "1"
      ]
     },
     "execution_count": 24,
     "metadata": {},
     "output_type": "execute_result"
    }
   ],
   "source": [
    "s=Solution()\n",
    "s.thirdMax([2, 2, 3, 1])"
   ]
  }
 ],
 "metadata": {
  "kernelspec": {
   "display_name": "Python 3.7.1 ('base')",
   "language": "python",
   "name": "python3"
  },
  "language_info": {
   "codemirror_mode": {
    "name": "ipython",
    "version": 3
   },
   "file_extension": ".py",
   "mimetype": "text/x-python",
   "name": "python",
   "nbconvert_exporter": "python",
   "pygments_lexer": "ipython3",
   "version": "3.7.1"
  },
  "orig_nbformat": 4,
  "vscode": {
   "interpreter": {
    "hash": "5179d32cf6ec497baf3f8a3ef987cc77c5d2dc691fdde20a56316522f61a7323"
   }
  }
 },
 "nbformat": 4,
 "nbformat_minor": 2
}
