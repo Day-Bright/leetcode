{
 "cells": [
  {
   "cell_type": "markdown",
   "metadata": {},
   "source": [
    "统计字符串中的单词个数，这里的单词指的是连续的不是空格的字符。\n",
    "\n",
    "请注意，你可以假定字符串里不包括任何不可打印的字符。\n",
    "\n",
    "示例:\n",
    "\n",
    "输入: \"Hello, my name is John\"\n",
    "输出: 5\n",
    "解释: 这里的单词是指连续的不是空格的字符，所以 \"Hello,\" 算作 1 个单词。\n",
    "\n",
    "来源：力扣（LeetCode）\n",
    "链接：https://leetcode.cn/problems/number-of-segments-in-a-string\n",
    "著作权归领扣网络所有。商业转载请联系官方授权，非商业转载请注明出处。"
   ]
  },
  {
   "cell_type": "code",
   "execution_count": null,
   "metadata": {},
   "outputs": [],
   "source": [
    "class Solution:\n",
    "    def countSegments(self, s: str) -> int:\n",
    "        return len(s.split())"
   ]
  }
 ],
 "metadata": {
  "language_info": {
   "name": "python"
  },
  "orig_nbformat": 4
 },
 "nbformat": 4,
 "nbformat_minor": 2
}
