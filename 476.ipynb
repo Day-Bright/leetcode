{
 "cells": [
  {
   "cell_type": "markdown",
   "metadata": {},
   "source": [
    "对整数的二进制表示取反（0 变 1 ，1 变 0）后，再转换为十进制表示，可以得到这个整数的补数。\n",
    "\n",
    "例如，整数 5 的二进制表示是 \"101\" ，取反后得到 \"010\" ，再转回十进制表示得到补数 2 。\n",
    "给你一个整数 num ，输出它的补数。\n",
    "\n",
    " \n",
    "\n",
    "示例 1：\n",
    "\n",
    "输入：num = 5\n",
    "输出：2\n",
    "解释：5 的二进制表示为 101（没有前导零位），其补数为 010。所以你需要输出 2 。\n",
    "示例 2：\n",
    "\n",
    "输入：num = 1\n",
    "输出：0\n",
    "解释：1 的二进制表示为 1（没有前导零位），其补数为 0。所以你需要输出 0 。\n",
    "\n",
    "来源：力扣（LeetCode）\n",
    "链接：https://leetcode.cn/problems/number-complement\n",
    "著作权归领扣网络所有。商业转载请联系官方授权，非商业转载请注明出处。"
   ]
  },
  {
   "cell_type": "code",
   "execution_count": 17,
   "metadata": {},
   "outputs": [],
   "source": [
    "class Solution:\n",
    "    def findComplement(self, num: int) -> int:\n",
    "        temp=list(str(bin(num))[2:])\n",
    "        for i in range(len(temp)):\n",
    "            if temp[i]=='0':\n",
    "                temp[i]='1'\n",
    "            else:\n",
    "                temp[i]='0'\n",
    "        res=''.join(temp)\n",
    "        return int(res,2)"
   ]
  },
  {
   "cell_type": "code",
   "execution_count": 18,
   "metadata": {},
   "outputs": [
    {
     "data": {
      "text/plain": [
       "2"
      ]
     },
     "execution_count": 18,
     "metadata": {},
     "output_type": "execute_result"
    }
   ],
   "source": [
    "s=Solution()\n",
    "s.findComplement(5)"
   ]
  }
 ],
 "metadata": {
  "kernelspec": {
   "display_name": "Python 3.7.1 ('base')",
   "language": "python",
   "name": "python3"
  },
  "language_info": {
   "codemirror_mode": {
    "name": "ipython",
    "version": 3
   },
   "file_extension": ".py",
   "mimetype": "text/x-python",
   "name": "python",
   "nbconvert_exporter": "python",
   "pygments_lexer": "ipython3",
   "version": "3.7.1"
  },
  "orig_nbformat": 4,
  "vscode": {
   "interpreter": {
    "hash": "5179d32cf6ec497baf3f8a3ef987cc77c5d2dc691fdde20a56316522f61a7323"
   }
  }
 },
 "nbformat": 4,
 "nbformat_minor": 2
}
