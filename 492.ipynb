{
 "cells": [
  {
   "cell_type": "markdown",
   "metadata": {},
   "source": [
    "作为一位web开发者， 懂得怎样去规划一个页面的尺寸是很重要的。 所以，现给定一个具体的矩形页面面积，你的任务是设计一个长度为 L 和宽度为 W 且满足以下要求的矩形的页面。要求：\n",
    "\n",
    "你设计的矩形页面必须等于给定的目标面积。\n",
    "宽度 W 不应大于长度 L ，换言之，要求 L >= W 。\n",
    "长度 L 和宽度 W 之间的差距应当尽可能小。\n",
    "返回一个 数组 [L, W]，其中 L 和 W 是你按照顺序设计的网页的长度和宽度。\n",
    " \n",
    "\n",
    "示例1：\n",
    "\n",
    "输入: 4\n",
    "输出: [2, 2]\n",
    "解释: 目标面积是 4， 所有可能的构造方案有 [1,4], [2,2], [4,1]。\n",
    "但是根据要求2，[1,4] 不符合要求; 根据要求3，[2,2] 比 [4,1] 更能符合要求. 所以输出长度 L 为 2， 宽度 W 为 2。\n",
    "示例 2:\n",
    "\n",
    "输入: area = 37\n",
    "输出: [37,1]\n",
    "示例 3:\n",
    "\n",
    "输入: area = 122122\n",
    "输出: [427,286]\n",
    "\n",
    "来源：力扣（LeetCode）\n",
    "链接：https://leetcode.cn/problems/construct-the-rectangle\n",
    "著作权归领扣网络所有。商业转载请联系官方授权，非商业转载请注明出处。"
   ]
  },
  {
   "cell_type": "code",
   "execution_count": 7,
   "metadata": {},
   "outputs": [],
   "source": [
    "import math\n",
    "class Solution:\n",
    "    def constructRectangle(self, area: int):\n",
    "        w=int(math.sqrt(area))\n",
    "        while True:\n",
    "            if area%w==0:\n",
    "                return [area//w,w]\n",
    "            else:\n",
    "                w-=1"
   ]
  },
  {
   "cell_type": "code",
   "execution_count": 8,
   "metadata": {},
   "outputs": [
    {
     "data": {
      "text/plain": [
       "[427, 286]"
      ]
     },
     "execution_count": 8,
     "metadata": {},
     "output_type": "execute_result"
    }
   ],
   "source": [
    "s=Solution()\n",
    "s.constructRectangle(122122)"
   ]
  }
 ],
 "metadata": {
  "kernelspec": {
   "display_name": "Python 3.7.1 ('base')",
   "language": "python",
   "name": "python3"
  },
  "language_info": {
   "codemirror_mode": {
    "name": "ipython",
    "version": 3
   },
   "file_extension": ".py",
   "mimetype": "text/x-python",
   "name": "python",
   "nbconvert_exporter": "python",
   "pygments_lexer": "ipython3",
   "version": "3.7.1"
  },
  "orig_nbformat": 4,
  "vscode": {
   "interpreter": {
    "hash": "5179d32cf6ec497baf3f8a3ef987cc77c5d2dc691fdde20a56316522f61a7323"
   }
  }
 },
 "nbformat": 4,
 "nbformat_minor": 2
}
