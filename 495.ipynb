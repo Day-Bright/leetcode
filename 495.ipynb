{
 "cells": [
  {
   "cell_type": "markdown",
   "metadata": {},
   "source": [
    "在《英雄联盟》的世界中，有一个叫 “提莫” 的英雄。他的攻击可以让敌方英雄艾希（编者注：寒冰射手）进入中毒状态。\n",
    "\n",
    "当提莫攻击艾希，艾希的中毒状态正好持续 duration 秒。\n",
    "\n",
    "正式地讲，提莫在 t 发起发起攻击意味着艾希在时间区间 [t, t + duration - 1]（含 t 和 t + duration - 1）处于中毒状态。如果提莫在中毒影响结束 前 再次攻击，中毒状态计时器将会 重置 ，在新的攻击之后，中毒影响将会在 duration 秒后结束。\n",
    "\n",
    "给你一个 非递减 的整数数组 timeSeries ，其中 timeSeries[i] 表示提莫在 timeSeries[i] 秒时对艾希发起攻击，以及一个表示中毒持续时间的整数 duration 。\n",
    "\n",
    "返回艾希处于中毒状态的 总 秒数。\n",
    "\n",
    " \n",
    "示例 1：\n",
    "\n",
    "输入：timeSeries = [1,4], duration = 2\n",
    "输出：4\n",
    "解释：提莫攻击对艾希的影响如下：\n",
    "- 第 1 秒，提莫攻击艾希并使其立即中毒。中毒状态会维持 2 秒，即第 1 秒和第 2 秒。\n",
    "- 第 4 秒，提莫再次攻击艾希，艾希中毒状态又持续 2 秒，即第 4 秒和第 5 秒。\n",
    "艾希在第 1、2、4、5 秒处于中毒状态，所以总中毒秒数是 4 。\n",
    "示例 2：\n",
    "\n",
    "输入：timeSeries = [1,2], duration = 2\n",
    "输出：3\n",
    "解释：提莫攻击对艾希的影响如下：\n",
    "- 第 1 秒，提莫攻击艾希并使其立即中毒。中毒状态会维持 2 秒，即第 1 秒和第 2 秒。\n",
    "- 第 2 秒，提莫再次攻击艾希，并重置中毒计时器，艾希中毒状态需要持续 2 秒，即第 2 秒和第 3 秒。\n",
    "艾希在第 1、2、3 秒处于中毒状态，所以总中毒秒数是 3 。\n",
    "\n",
    "来源：力扣（LeetCode）\n",
    "链接：https://leetcode.cn/problems/teemo-attacking\n",
    "著作权归领扣网络所有。商业转载请联系官方授权，非商业转载请注明出处。"
   ]
  },
  {
   "cell_type": "code",
   "execution_count": 7,
   "metadata": {},
   "outputs": [],
   "source": [
    "class Solution(object):\n",
    "    def findPoisonedDuration(self, timeSeries, duration):\n",
    "        res=0\n",
    "        for i in range(len(timeSeries)):\n",
    "            if i==len(timeSeries)-1:\n",
    "                res+=duration\n",
    "                break\n",
    "            if timeSeries[i+1]-timeSeries[i]>=duration:\n",
    "                res+=duration\n",
    "            else:\n",
    "                res+=timeSeries[i+1]-timeSeries[i]\n",
    "        return res"
   ]
  },
  {
   "cell_type": "code",
   "execution_count": 8,
   "metadata": {},
   "outputs": [
    {
     "data": {
      "text/plain": [
       "3"
      ]
     },
     "execution_count": 8,
     "metadata": {},
     "output_type": "execute_result"
    }
   ],
   "source": [
    "s=Solution()\n",
    "s.findPoisonedDuration(timeSeries = [1,2], duration = 2)"
   ]
  }
 ],
 "metadata": {
  "kernelspec": {
   "display_name": "Python 3.7.1 ('base')",
   "language": "python",
   "name": "python3"
  },
  "language_info": {
   "codemirror_mode": {
    "name": "ipython",
    "version": 3
   },
   "file_extension": ".py",
   "mimetype": "text/x-python",
   "name": "python",
   "nbconvert_exporter": "python",
   "pygments_lexer": "ipython3",
   "version": "3.7.1"
  },
  "orig_nbformat": 4,
  "vscode": {
   "interpreter": {
    "hash": "5179d32cf6ec497baf3f8a3ef987cc77c5d2dc691fdde20a56316522f61a7323"
   }
  }
 },
 "nbformat": 4,
 "nbformat_minor": 2
}
