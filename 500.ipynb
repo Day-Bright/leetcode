{
 "cells": [
  {
   "cell_type": "markdown",
   "metadata": {},
   "source": [
    "给你一个字符串数组 words ，只返回可以使用在 美式键盘 同一行的字母打印出来的单词。键盘如下图所示。\n",
    "\n",
    "美式键盘 中：\n",
    "\n",
    "第一行由字符 \"qwertyuiop\" 组成。\n",
    "第二行由字符 \"asdfghjkl\" 组成。\n",
    "第三行由字符 \"zxcvbnm\" 组成。\n",
    "\n",
    "\n",
    " \n",
    "\n",
    "示例 1：\n",
    "\n",
    "输入：words = [\"Hello\",\"Alaska\",\"Dad\",\"Peace\"]\n",
    "输出：[\"Alaska\",\"Dad\"]\n",
    "示例 2：\n",
    "\n",
    "输入：words = [\"omk\"]\n",
    "输出：[]\n",
    "示例 3：\n",
    "\n",
    "输入：words = [\"adsdf\",\"sfd\"]\n",
    "输出：[\"adsdf\",\"sfd\"]\n",
    "\n",
    "来源：力扣（LeetCode）\n",
    "链接：https://leetcode.cn/problems/keyboard-row\n",
    "著作权归领扣网络所有。商业转载请联系官方授权，非商业转载请注明出处。"
   ]
  },
  {
   "cell_type": "code",
   "execution_count": 27,
   "metadata": {},
   "outputs": [],
   "source": [
    "\n",
    "class Solution(object):\n",
    "    def findWords(self, words):\n",
    "        set1=set(\"qwertyuiop\")\n",
    "        set2=set(\"asdfghjkl\")\n",
    "        set3=set(\"zxcvbnm\")\n",
    "        res = []\n",
    "        for j in words:\n",
    "            i=j.lower()\n",
    "            if set(i).issubset(set1) or set(i).issubset(set2) or set(i).issubset(set3):\n",
    "                res.append(j)\n",
    "        return res"
   ]
  },
  {
   "cell_type": "code",
   "execution_count": 28,
   "metadata": {},
   "outputs": [
    {
     "data": {
      "text/plain": [
       "['Alaska', 'Dad']"
      ]
     },
     "execution_count": 28,
     "metadata": {},
     "output_type": "execute_result"
    }
   ],
   "source": [
    "s=Solution()\n",
    "s.findWords(words = [\"Hello\",\"Alaska\",\"Dad\",\"Peace\"])"
   ]
  }
 ],
 "metadata": {
  "kernelspec": {
   "display_name": "Python 3.7.1 ('base')",
   "language": "python",
   "name": "python3"
  },
  "language_info": {
   "codemirror_mode": {
    "name": "ipython",
    "version": 3
   },
   "file_extension": ".py",
   "mimetype": "text/x-python",
   "name": "python",
   "nbconvert_exporter": "python",
   "pygments_lexer": "ipython3",
   "version": "3.7.1"
  },
  "orig_nbformat": 4,
  "vscode": {
   "interpreter": {
    "hash": "5179d32cf6ec497baf3f8a3ef987cc77c5d2dc691fdde20a56316522f61a7323"
   }
  }
 },
 "nbformat": 4,
 "nbformat_minor": 2
}
