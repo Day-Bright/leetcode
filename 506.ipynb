{
 "cells": [
  {
   "cell_type": "markdown",
   "metadata": {},
   "source": [
    "给你一个长度为 n 的整数数组 score ，其中 score[i] 是第 i 位运动员在比赛中的得分。所有得分都 互不相同 。\n",
    "\n",
    "运动员将根据得分 决定名次 ，其中名次第 1 的运动员得分最高，名次第 2 的运动员得分第 2 高，依此类推。运动员的名次决定了他们的获奖情况：\n",
    "\n",
    "名次第 1 的运动员获金牌 \"Gold Medal\" 。\n",
    "名次第 2 的运动员获银牌 \"Silver Medal\" 。\n",
    "名次第 3 的运动员获铜牌 \"Bronze Medal\" 。\n",
    "从名次第 4 到第 n 的运动员，只能获得他们的名次编号（即，名次第 x 的运动员获得编号 \"x\"）。\n",
    "使用长度为 n 的数组 answer 返回获奖，其中 answer[i] 是第 i 位运动员的获奖情况。\n",
    "\n",
    " \n",
    "\n",
    "示例 1：\n",
    "\n",
    "输入：score = [5,4,3,2,1]\n",
    "输出：[\"Gold Medal\",\"Silver Medal\",\"Bronze Medal\",\"4\",\"5\"]\n",
    "解释：名次为 [1st, 2nd, 3rd, 4th, 5th] 。\n",
    "示例 2：\n",
    "\n",
    "输入：score = [10,3,8,9,4]\n",
    "输出：[\"Gold Medal\",\"5\",\"Bronze Medal\",\"Silver Medal\",\"4\"]\n",
    "解释：名次为 [1st, 5th, 3rd, 2nd, 4th] 。\n",
    "\n",
    "来源：力扣（LeetCode）\n",
    "链接：https://leetcode.cn/problems/relative-ranks\n",
    "著作权归领扣网络所有。商业转载请联系官方授权，非商业转载请注明出处。"
   ]
  },
  {
   "cell_type": "code",
   "execution_count": 61,
   "metadata": {},
   "outputs": [],
   "source": [
    "class Solution(object):\n",
    "    def findRelativeRanks(self, score):\n",
    "        temp=sorted(score,reverse=True)\n",
    "        for i in range(len(temp)):\n",
    "            index=score.index(temp[i])\n",
    "            if i==0:\n",
    "               score[index]=\"Gold Medal\"\n",
    "            elif i==1:\n",
    "               score[index]=\"Silver Medal\"\n",
    "            elif i==2:\n",
    "                score[index]=\"Bronze Medal\"\n",
    "            else:\n",
    "                score[index]=str(i+1)\n",
    "        return score"
   ]
  },
  {
   "cell_type": "code",
   "execution_count": 62,
   "metadata": {},
   "outputs": [
    {
     "data": {
      "text/plain": [
       "['Gold Medal', '5', 'Bronze Medal', 'Silver Medal', '4']"
      ]
     },
     "execution_count": 62,
     "metadata": {},
     "output_type": "execute_result"
    }
   ],
   "source": [
    "s=Solution()\n",
    "s.findRelativeRanks(score = [10,3,8,9,4])"
   ]
  }
 ],
 "metadata": {
  "kernelspec": {
   "display_name": "Python 3.7.1 ('base')",
   "language": "python",
   "name": "python3"
  },
  "language_info": {
   "codemirror_mode": {
    "name": "ipython",
    "version": 3
   },
   "file_extension": ".py",
   "mimetype": "text/x-python",
   "name": "python",
   "nbconvert_exporter": "python",
   "pygments_lexer": "ipython3",
   "version": "3.7.1"
  },
  "orig_nbformat": 4,
  "vscode": {
   "interpreter": {
    "hash": "5179d32cf6ec497baf3f8a3ef987cc77c5d2dc691fdde20a56316522f61a7323"
   }
  }
 },
 "nbformat": 4,
 "nbformat_minor": 2
}
