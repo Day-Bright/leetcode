{
 "cells": [
  {
   "cell_type": "markdown",
   "metadata": {},
   "source": [
    "给你两个字符串 a 和 b，请返回 这两个字符串中 最长的特殊序列  的长度。如果不存在，则返回 -1 。\n",
    "\n",
    "「最长特殊序列」 定义如下：该序列为 某字符串独有的最长子序列（即不能是其他字符串的子序列） 。\n",
    "\n",
    "字符串 s 的子序列是在从 s 中删除任意数量的字符后可以获得的字符串。\n",
    "\n",
    "例如，\"abc\" 是 \"aebdc\" 的子序列，因为删除 \"aebdc\" 中斜体加粗的字符可以得到 \"abc\" 。 \"aebdc\" 的子序列还包括 \"aebdc\" 、 \"aeb\" 和 \"\" (空字符串)。\n",
    " \n",
    "\n",
    "示例 1：\n",
    "\n",
    "输入: a = \"aba\", b = \"cdc\"\n",
    "输出: 3\n",
    "解释: 最长特殊序列可为 \"aba\" (或 \"cdc\")，两者均为自身的子序列且不是对方的子序列。\n",
    "示例 2：\n",
    "\n",
    "输入：a = \"aaa\", b = \"bbb\"\n",
    "输出：3\n",
    "解释: 最长特殊序列是 \"aaa\" 和 \"bbb\" 。\n",
    "示例 3：\n",
    "\n",
    "输入：a = \"aaa\", b = \"aaa\"\n",
    "输出：-1\n",
    "解释: 字符串 a 的每个子序列也是字符串 b 的每个子序列。同样，字符串 b 的每个子序列也是字符串 a 的子序列\n",
    "\n",
    "来源：力扣（LeetCode）\n",
    "链接：https://leetcode.cn/problems/longest-uncommon-subsequence-i\n",
    "著作权归领扣网络所有。商业转载请联系官方授权，非商业转载请注明出处。"
   ]
  },
  {
   "cell_type": "code",
   "execution_count": 1,
   "metadata": {},
   "outputs": [],
   "source": [
    "class Solution:\n",
    "    def findLUSlength(self, a: str, b: str) -> int:\n",
    "        if a==b:\n",
    "            return -1\n",
    "        return max(len(a),len(b))"
   ]
  },
  {
   "cell_type": "code",
   "execution_count": 2,
   "metadata": {},
   "outputs": [
    {
     "data": {
      "text/plain": [
       "3"
      ]
     },
     "execution_count": 2,
     "metadata": {},
     "output_type": "execute_result"
    }
   ],
   "source": [
    "s=Solution()\n",
    "s.findLUSlength(a = \"aba\", b = \"cdc\")"
   ]
  }
 ],
 "metadata": {
  "kernelspec": {
   "display_name": "Python 3.7.1 ('base')",
   "language": "python",
   "name": "python3"
  },
  "language_info": {
   "codemirror_mode": {
    "name": "ipython",
    "version": 3
   },
   "file_extension": ".py",
   "mimetype": "text/x-python",
   "name": "python",
   "nbconvert_exporter": "python",
   "pygments_lexer": "ipython3",
   "version": "3.7.1"
  },
  "orig_nbformat": 4,
  "vscode": {
   "interpreter": {
    "hash": "5179d32cf6ec497baf3f8a3ef987cc77c5d2dc691fdde20a56316522f61a7323"
   }
  }
 },
 "nbformat": 4,
 "nbformat_minor": 2
}
