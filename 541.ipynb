{
 "cells": [
  {
   "cell_type": "markdown",
   "metadata": {},
   "source": [
    "给定一个字符串 s 和一个整数 k，从字符串开头算起，每计数至 2k 个字符，就反转这 2k 字符中的前 k 个字符。\n",
    "\n",
    "如果剩余字符少于 k 个，则将剩余字符全部反转。\n",
    "如果剩余字符小于 2k 但大于或等于 k 个，则反转前 k 个字符，其余字符保持原样。\n",
    " \n",
    "\n",
    "示例 1：\n",
    "\n",
    "输入：s = \"abcdefg\", k = 2\n",
    "输出：\"bacdfeg\"\n",
    "示例 2：\n",
    "\n",
    "输入：s = \"abcd\", k = 2\n",
    "输出：\"bacd\"\n",
    "\n",
    "来源：力扣（LeetCode）\n",
    "链接：https://leetcode.cn/problems/reverse-string-ii\n",
    "著作权归领扣网络所有。商业转载请联系官方授权，非商业转载请注明出处。"
   ]
  },
  {
   "cell_type": "code",
   "execution_count": 302,
   "metadata": {},
   "outputs": [],
   "source": [
    "import math\n",
    "class Solution:\n",
    "    def reverseStr(self, s: str, k: int) -> str:\n",
    "        x=int(math.ceil(len(s)/(2*k)))\n",
    "        res=\"\"\n",
    "        if k==1:\n",
    "            return s\n",
    "        elif len(s)<k:\n",
    "            return s[::-1]\n",
    "        elif len(s)>=k and len(s)<=2*k:\n",
    "            return s[0:k][::-1]+s[k::]\n",
    "        elif len(s)>2*k:\n",
    "            for i in range(x):\n",
    "                if i==x-1:\n",
    "                    temp=s[(2*k)*(i)::]\n",
    "                temp=s[(2*k)*(i):(2*k)*(i+1)]\n",
    "                if len(temp)>=k and len(temp)<2*k:\n",
    "                    res+=temp[0:k][::-1]+temp[k::]\n",
    "                elif len(temp)<k:\n",
    "                    res+=temp[::-1]\n",
    "                elif len(temp)==2*k:\n",
    "                    res+=temp[0:k][::-1]+temp[k::]\n",
    "            return res"
   ]
  },
  {
   "cell_type": "code",
   "execution_count": 303,
   "metadata": {},
   "outputs": [
    {
     "data": {
      "text/plain": [
       "'bacdfeg'"
      ]
     },
     "execution_count": 303,
     "metadata": {},
     "output_type": "execute_result"
    }
   ],
   "source": [
    "s=Solution()\n",
    "s.reverseStr(\"abcdefg\",2)"
   ]
  }
 ],
 "metadata": {
  "kernelspec": {
   "display_name": "Python 3.7.1 ('base')",
   "language": "python",
   "name": "python3"
  },
  "language_info": {
   "codemirror_mode": {
    "name": "ipython",
    "version": 3
   },
   "file_extension": ".py",
   "mimetype": "text/x-python",
   "name": "python",
   "nbconvert_exporter": "python",
   "pygments_lexer": "ipython3",
   "version": "3.7.1"
  },
  "orig_nbformat": 4,
  "vscode": {
   "interpreter": {
    "hash": "5179d32cf6ec497baf3f8a3ef987cc77c5d2dc691fdde20a56316522f61a7323"
   }
  }
 },
 "nbformat": 4,
 "nbformat_minor": 2
}
