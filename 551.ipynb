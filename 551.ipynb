{
 "cells": [
  {
   "cell_type": "markdown",
   "metadata": {},
   "source": [
    "给你一个字符串 s 表示一个学生的出勤记录，其中的每个字符用来标记当天的出勤情况（缺勤、迟到、到场）。记录中只含下面三种字符：\n",
    "\n",
    "'A'：Absent，缺勤\n",
    "'L'：Late，迟到\n",
    "'P'：Present，到场\n",
    "如果学生能够 同时 满足下面两个条件，则可以获得出勤奖励：\n",
    "\n",
    "按 总出勤 计，学生缺勤（'A'）严格 少于两天。\n",
    "学生 不会 存在 连续 3 天或 连续 3 天以上的迟到（'L'）记录。\n",
    "如果学生可以获得出勤奖励，返回 true ；否则，返回 false 。\n",
    "\n",
    " \n",
    "\n",
    "示例 1：\n",
    "\n",
    "输入：s = \"PPALLP\"\n",
    "输出：true\n",
    "解释：学生缺勤次数少于 2 次，且不存在 3 天或以上的连续迟到记录。\n",
    "示例 2：\n",
    "\n",
    "输入：s = \"PPALLL\"\n",
    "输出：false\n",
    "解释：学生最后三天连续迟到，所以不满足出勤奖励的条件。\n",
    "\n",
    "来源：力扣（LeetCode）\n",
    "链接：https://leetcode.cn/problems/student-attendance-record-i\n",
    "著作权归领扣网络所有。商业转载请联系官方授权，非商业转载请注明出处。"
   ]
  },
  {
   "cell_type": "code",
   "execution_count": 3,
   "metadata": {},
   "outputs": [],
   "source": [
    "class Solution:\n",
    "    def checkRecord(self, s: str) -> bool:\n",
    "        if s.count('A')>=2:\n",
    "            return False\n",
    "        elif \"LLL\" in s:\n",
    "            return False\n",
    "        else:\n",
    "            return True"
   ]
  },
  {
   "cell_type": "code",
   "execution_count": 4,
   "metadata": {},
   "outputs": [
    {
     "data": {
      "text/plain": [
       "True"
      ]
     },
     "execution_count": 4,
     "metadata": {},
     "output_type": "execute_result"
    }
   ],
   "source": [
    "s=Solution()\n",
    "s.checkRecord(\"PPALLP\")"
   ]
  }
 ],
 "metadata": {
  "kernelspec": {
   "display_name": "Python 3.7.1 ('base')",
   "language": "python",
   "name": "python3"
  },
  "language_info": {
   "codemirror_mode": {
    "name": "ipython",
    "version": 3
   },
   "file_extension": ".py",
   "mimetype": "text/x-python",
   "name": "python",
   "nbconvert_exporter": "python",
   "pygments_lexer": "ipython3",
   "version": "3.7.1"
  },
  "orig_nbformat": 4,
  "vscode": {
   "interpreter": {
    "hash": "5179d32cf6ec497baf3f8a3ef987cc77c5d2dc691fdde20a56316522f61a7323"
   }
  }
 },
 "nbformat": 4,
 "nbformat_minor": 2
}
