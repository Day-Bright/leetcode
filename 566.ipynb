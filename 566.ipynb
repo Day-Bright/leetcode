{
 "cells": [
  {
   "cell_type": "markdown",
   "metadata": {},
   "source": [
    "在 MATLAB 中，有一个非常有用的函数 reshape ，它可以将一个 m x n 矩阵重塑为另一个大小不同（r x c）的新矩阵，但保留其原始数据。\n",
    "\n",
    "给你一个由二维数组 mat 表示的 m x n 矩阵，以及两个正整数 r 和 c ，分别表示想要的重构的矩阵的行数和列数。\n",
    "\n",
    "重构后的矩阵需要将原始矩阵的所有元素以相同的 行遍历顺序 填充。\n",
    "\n",
    "如果具有给定参数的 reshape 操作是可行且合理的，则输出新的重塑矩阵；否则，输出原始矩阵。\n",
    "\n",
    " \n",
    "\n",
    "示例 1：\n",
    "\n",
    "\n",
    "输入：mat = [[1,2],[3,4]], r = 1, c = 4\n",
    "输出：[[1,2,3,4]]\n",
    "示例 2：\n",
    "\n",
    "\n",
    "输入：mat = [[1,2],[3,4]], r = 2, c = 4\n",
    "输出：[[1,2],[3,4]]\n",
    "\n",
    "来源：力扣（LeetCode）\n",
    "链接：https://leetcode.cn/problems/reshape-the-matrix\n",
    "著作权归领扣网络所有。商业转载请联系官方授权，非商业转载请注明出处。"
   ]
  },
  {
   "cell_type": "code",
   "execution_count": 25,
   "metadata": {},
   "outputs": [],
   "source": [
    "class Solution(object):\n",
    "    def matrixReshape(self, mat, r, c):\n",
    "        res=[]\n",
    "        temp=[]\n",
    "        if len(mat)*len(mat[0])!=c*r:\n",
    "            return mat\n",
    "        else:\n",
    "            for i in mat:\n",
    "                for j in i:\n",
    "                    temp.append(j)\n",
    "                    if len(temp)==c:\n",
    "                        res.append(temp)\n",
    "                        temp=[]\n",
    "        return res"
   ]
  },
  {
   "cell_type": "code",
   "execution_count": 26,
   "metadata": {},
   "outputs": [
    {
     "data": {
      "text/plain": [
       "[[1, 2], [3, 4]]"
      ]
     },
     "execution_count": 26,
     "metadata": {},
     "output_type": "execute_result"
    }
   ],
   "source": [
    "s=Solution()\n",
    "s.matrixReshape(mat = [[1,2,3,4]], r = 2, c = 2)"
   ]
  }
 ],
 "metadata": {
  "kernelspec": {
   "display_name": "Python 3.7.1 ('base')",
   "language": "python",
   "name": "python3"
  },
  "language_info": {
   "codemirror_mode": {
    "name": "ipython",
    "version": 3
   },
   "file_extension": ".py",
   "mimetype": "text/x-python",
   "name": "python",
   "nbconvert_exporter": "python",
   "pygments_lexer": "ipython3",
   "version": "3.7.1"
  },
  "orig_nbformat": 4,
  "vscode": {
   "interpreter": {
    "hash": "5179d32cf6ec497baf3f8a3ef987cc77c5d2dc691fdde20a56316522f61a7323"
   }
  }
 },
 "nbformat": 4,
 "nbformat_minor": 2
}
