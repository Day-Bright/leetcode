{
 "cells": [
  {
   "cell_type": "markdown",
   "metadata": {},
   "source": [
    "和谐数组是指一个数组里元素的最大值和最小值之间的差别 正好是 1 。\n",
    "\n",
    "现在，给你一个整数数组 nums ，请你在所有可能的子序列中找到最长的和谐子序列的长度。\n",
    "\n",
    "数组的子序列是一个由数组派生出来的序列，它可以通过删除一些元素或不删除元素、且不改变其余元素的顺序而得到。\n",
    "\n",
    " \n",
    "\n",
    "示例 1：\n",
    "\n",
    "输入：nums = [1,3,2,2,5,2,3,7]\n",
    "输出：5\n",
    "解释：最长的和谐子序列是 [3,2,2,2,3]\n",
    "示例 2：\n",
    "\n",
    "输入：nums = [1,2,3,4]\n",
    "输出：2\n",
    "示例 3：\n",
    "\n",
    "输入：nums = [1,1,1,1]\n",
    "输出：0\n",
    "\n",
    "来源：力扣（LeetCode）\n",
    "链接：https://leetcode.cn/problems/longest-harmonious-subsequence\n",
    "著作权归领扣网络所有。商业转载请联系官方授权，非商业转载请注明出处。"
   ]
  },
  {
   "cell_type": "code",
   "execution_count": 13,
   "metadata": {},
   "outputs": [],
   "source": [
    "from typing import Counter\n",
    "\n",
    "\n",
    "class Solution:\n",
    "    def findLHS(self, nums):\n",
    "        res=0\n",
    "        counter=Counter(nums)\n",
    "        for key,val in counter.items():\n",
    "            if key+1 in counter:\n",
    "                temp=counter[key]+counter[key+1]\n",
    "                res=max(temp,res)\n",
    "        return res"
   ]
  },
  {
   "cell_type": "code",
   "execution_count": 14,
   "metadata": {},
   "outputs": [
    {
     "data": {
      "text/plain": [
       "5"
      ]
     },
     "execution_count": 14,
     "metadata": {},
     "output_type": "execute_result"
    }
   ],
   "source": [
    "s=Solution()\n",
    "s.findLHS(nums = [1,3,2,2,5,2,3,7])"
   ]
  }
 ],
 "metadata": {
  "kernelspec": {
   "display_name": "Python 3.7.1 ('base')",
   "language": "python",
   "name": "python3"
  },
  "language_info": {
   "codemirror_mode": {
    "name": "ipython",
    "version": 3
   },
   "file_extension": ".py",
   "mimetype": "text/x-python",
   "name": "python",
   "nbconvert_exporter": "python",
   "pygments_lexer": "ipython3",
   "version": "3.7.1"
  },
  "orig_nbformat": 4,
  "vscode": {
   "interpreter": {
    "hash": "5179d32cf6ec497baf3f8a3ef987cc77c5d2dc691fdde20a56316522f61a7323"
   }
  }
 },
 "nbformat": 4,
 "nbformat_minor": 2
}
