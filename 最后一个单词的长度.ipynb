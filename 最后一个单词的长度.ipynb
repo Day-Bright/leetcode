{
 "cells": [
  {
   "cell_type": "markdown",
   "metadata": {},
   "source": [
    "给你一个字符串 s，由若干单词组成，单词前后用一些空格字符隔开。返回字符串中 最后一个 单词的长度。\n",
    "\n",
    "单词 是指仅由字母组成、不包含任何空格字符的最大子字符串。\n",
    "\n",
    " \n",
    "\n",
    "示例 1：\n",
    "\n",
    "输入：s = \"Hello World\"\n",
    "输出：5\n",
    "解释：最后一个单词是“World”，长度为5。\n",
    "示例 2：\n",
    "\n",
    "输入：s = \"   fly me   to   the moon  \"\n",
    "输出：4\n",
    "解释：最后一个单词是“moon”，长度为4。\n",
    "示例 3：\n",
    "\n",
    "输入：s = \"luffy is still joyboy\"\n",
    "输出：6\n",
    "解释：最后一个单词是长度为6的“joyboy”。"
   ]
  },
  {
   "cell_type": "code",
   "execution_count": 7,
   "metadata": {},
   "outputs": [],
   "source": [
    "def lengthOfLastWord(s):\n",
    "    # s.replace(\" \")\n",
    "    strList = s.split( )\n",
    "    return len(strList[-1])\n"
   ]
  },
  {
   "cell_type": "code",
   "execution_count": 8,
   "metadata": {},
   "outputs": [
    {
     "name": "stdout",
     "output_type": "stream",
     "text": [
      "4\n"
     ]
    }
   ],
   "source": [
    "s =\"   fly me   to   the moon  \"\n",
    "print(lengthOfLastWord(s))"
   ]
  }
 ],
 "metadata": {
  "kernelspec": {
   "display_name": "Python 3.7.1 ('base')",
   "language": "python",
   "name": "python3"
  },
  "language_info": {
   "codemirror_mode": {
    "name": "ipython",
    "version": 3
   },
   "file_extension": ".py",
   "mimetype": "text/x-python",
   "name": "python",
   "nbconvert_exporter": "python",
   "pygments_lexer": "ipython3",
   "version": "3.7.1"
  },
  "orig_nbformat": 4,
  "vscode": {
   "interpreter": {
    "hash": "5179d32cf6ec497baf3f8a3ef987cc77c5d2dc691fdde20a56316522f61a7323"
   }
  }
 },
 "nbformat": 4,
 "nbformat_minor": 2
}
